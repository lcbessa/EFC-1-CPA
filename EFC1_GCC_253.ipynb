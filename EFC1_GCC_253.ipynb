{
  "cells": [
    {
      "cell_type": "markdown",
      "metadata": {
        "id": "XAdlKnDBj5uB"
      },
      "source": [
        "# EFC1 GCC253 - Complexidade e Projeto de Algoritmos\n",
        "\n",
        "\n",
        "> **Prof.: Douglas H. S. Abreu**\n",
        "\n",
        "\n",
        "**Aluno**: Luiz Carlos Bessa de Lima\n",
        "\n",
        "**Matricula**: 201821256\n",
        "\n",
        "**Turma**: 10A\n",
        "\n",
        "Link do repositório GitHub: https://github.com/lcbessa/EFC-1-CPA\n",
        "\n",
        "● O trabalho deve ser feito em grupos de no máximo 2 componentes (todos devem enviar a atividade no Campus Virtual)\n",
        "\n",
        "● Trabalhos entregues após a data limite não serão aceitos\n",
        "\n",
        "● Data limite de entrega: 24 de Julho de 2022 : 23h55m\n",
        "\n",
        "● Enviar o trabalho para o campus virtual, do seguinte modo: link do repositório GitHub e do Colab para acesso ao Notebook. A Documentação deve estar no readme\n",
        "\n",
        "● O trabalho deve ser desenvolvido no modelo Notebook utilizando a linguagem Python"
      ]
    },
    {
      "cell_type": "markdown",
      "metadata": {
        "id": "J3d6JlRUxREN"
      },
      "source": [
        "# Importações e Variáveis globais"
      ]
    },
    {
      "cell_type": "code",
      "execution_count": 266,
      "metadata": {
        "id": "Ur1DVGQAxac4"
      },
      "outputs": [],
      "source": [
        "import numpy as np\n",
        "\n",
        "global_1 = 0\n"
      ]
    },
    {
      "cell_type": "markdown",
      "metadata": {
        "id": "kPNpzNYwkKAO"
      },
      "source": [
        "# Funções de Ordenação\n",
        "\n",
        "> Utilize este espaço para definir as funções de ordenação vista em sala de aula\n",
        "\n"
      ]
    },
    {
      "cell_type": "markdown",
      "metadata": {
        "id": "nEw1UEsmoKMg"
      },
      "source": [
        "##  Insertion Sort\n"
      ]
    },
    {
      "cell_type": "code",
      "execution_count": 201,
      "metadata": {
        "id": "kbOrhdB-j_px"
      },
      "outputs": [],
      "source": [
        "def insertionSort(arranjo):\n",
        "  qtdComparacoes = 0\n",
        "  for j in range (1, len(arranjo)):\n",
        "    qtdComparacoes += 1\n",
        "    chave = arranjo[j]\n",
        "    i = j - 1\n",
        "    while i >= 0 and arranjo[i] > chave:\n",
        "      qtdComparacoes += 1\n",
        "      arranjo[i + 1] = arranjo[i]\n",
        "      i = i - 1\n",
        "      arranjo[i + 1] = chave\n",
        "  qtdComparacoes += 1\n",
        "  print(\"Quantidade de Comparações: \", qtdComparacoes)\n",
        "  return arranjo"
      ]
    },
    {
      "cell_type": "code",
      "execution_count": 203,
      "metadata": {},
      "outputs": [
        {
          "name": "stdout",
          "output_type": "stream",
          "text": [
            "Aleatório\n",
            "Quantidade de Comparações:  23\n",
            "[0, 5, 15, 31, 33, 39, 40, 75, 92, 99] \n",
            "\n",
            "Melhor Caso\n",
            "Quantidade de Comparações:  10\n",
            "[1, 2, 3, 4, 5, 6, 7, 8, 9, 10] \n",
            "\n",
            "Pior Caso\n",
            "Quantidade de Comparações:  55\n",
            "[1, 2, 3, 4, 5, 6, 7, 8, 9, 10]\n"
          ]
        }
      ],
      "source": [
        "arranjoAleatorio = [92, 0, 5, 31, 33, 39, 40, 75, 15, 99]\n",
        "arranjoMelhorCaso = [1, 2, 3, 4, 5, 6, 7, 8, 9, 10]\n",
        "arranjoPiorCaso = [10, 9, 8, 7, 6, 5, 4, 3, 2, 1]\n",
        "\n",
        "print(\"Aleatório\")\n",
        "print(insertionSort(arranjoAleatorio),\"\\n\")\n",
        "\n",
        "print(\"Melhor Caso\")\n",
        "print(insertionSort(arranjoMelhorCaso),\"\\n\")\n",
        "\n",
        "print(\"Pior Caso\")\n",
        "print(insertionSort(arranjoPiorCaso))\n"
      ]
    },
    {
      "cell_type": "markdown",
      "metadata": {
        "id": "9a-wJwU-wtmQ"
      },
      "source": [
        "##  Merge Sort\n"
      ]
    },
    {
      "cell_type": "code",
      "execution_count": 268,
      "metadata": {
        "id": "8cgIJ_4EwbPN"
      },
      "outputs": [],
      "source": [
        "def mergeSort(arranjo):\n",
        "  global global_1\n",
        "  if (len(arranjo) > 1):\n",
        "    global_1 += 1\n",
        "    meio = int(len(arranjo)/2)\n",
        "    i = 0 \n",
        "    j = 0 \n",
        "    k = 0\n",
        "    arranjoEsq = arranjo[:meio]\n",
        "    arranjoDir = arranjo[meio:]\n",
        "\n",
        "    mergeSort(arranjoEsq)\n",
        "    mergeSort(arranjoDir)\n",
        "\n",
        "    while (i < len(arranjoEsq) and j < len(arranjoDir)):\n",
        "      if (arranjoEsq[i] < arranjoDir[j]):\n",
        "        arranjo[k] = arranjoEsq[i]\n",
        "        i = i + 1\n",
        "        global_1 += 1\n",
        "      else:\n",
        "        arranjo[k] = arranjoDir[j]\n",
        "        j = j + 1\n",
        "        global_1 += 1\n",
        "      k = k + 1\n",
        "    global_1 += 1 #última comparação do while\n",
        "    while (i < len(arranjoEsq)):\n",
        "      global_1 += 1\n",
        "      arranjo[k] = arranjoEsq[i]\n",
        "      i = i + 1\n",
        "      k = k + 1\n",
        "    global_1 += 1 #última comparação do while\n",
        "    while (j < len(arranjoDir)):\n",
        "      global_1 += 1\n",
        "      arranjo[k] = arranjoDir[j]\n",
        "      j = j + 1\n",
        "      k = k + 1\n",
        "    global_1 += 1 #última comparação do while\n",
        "  return arranjo"
      ]
    },
    {
      "cell_type": "code",
      "execution_count": 269,
      "metadata": {},
      "outputs": [
        {
          "name": "stdout",
          "output_type": "stream",
          "text": [
            "Aleatório\n",
            "[0, 5, 15, 31, 33, 39, 40, 75, 92, 99]\n",
            "Quantidade de Comparações:  70 \n",
            "\n",
            "Melhor Caso\n",
            "[1, 2, 3, 4, 5, 6, 7, 8, 9, 10]\n",
            "Quantidade de Comparações:  70 \n",
            "\n",
            "Pior Caso\n",
            "[1, 2, 3, 4, 5, 6, 7, 8, 9, 10]\n",
            "Quantidade de Comparações:  70\n"
          ]
        }
      ],
      "source": [
        "arranjoAleatorio = [92, 0, 5, 31, 33, 39, 40, 75, 15, 99]\n",
        "arranjoMelhorCaso = [1, 2, 3, 4, 5, 6, 7, 8, 9, 10]\n",
        "arranjoPiorCaso = [10, 9, 8, 7, 6, 5, 4, 3, 2, 1]\n",
        "\n",
        "global_1 = 0\n",
        "\n",
        "print(\"Aleatório\")\n",
        "print(mergeSort(arranjoAleatorio))\n",
        "print(\"Quantidade de Comparações: \", global_1,\"\\n\")\n",
        "global_1 = 0\n",
        "\n",
        "print(\"Melhor Caso\")\n",
        "print(mergeSort(arranjoMelhorCaso))\n",
        "print(\"Quantidade de Comparações: \", global_1,\"\\n\")\n",
        "global_1 = 0\n",
        "\n",
        "print(\"Pior Caso\")\n",
        "print(mergeSort(arranjoPiorCaso))\n",
        "print(\"Quantidade de Comparações: \", global_1)\n",
        "global_1 = 0"
      ]
    },
    {
      "cell_type": "markdown",
      "metadata": {
        "id": "8dWpeYUvw-wU"
      },
      "source": [
        "##  Selection Sort\n"
      ]
    },
    {
      "cell_type": "code",
      "execution_count": 246,
      "metadata": {
        "id": "vNgUDShawygu"
      },
      "outputs": [],
      "source": [
        "def selectionSort(arranjo):\n",
        "  qtdComparacoes = 0\n",
        "  for i in range(len(arranjo)):\n",
        "    # qtdComparacoes += 1\n",
        "    menor = i\n",
        "    for j in range(i + 1, len(arranjo)):\n",
        "      # qtdComparacoes += 1\n",
        "      if arranjo[j] < arranjo[menor]:\n",
        "        qtdComparacoes += 1\n",
        "        menor = j\n",
        "    if arranjo[i] != arranjo[menor]:\n",
        "      qtdComparacoes += 1\n",
        "      auxiliar = arranjo[i]\n",
        "      arranjo[i] = arranjo[menor]\n",
        "      arranjo[menor] = auxiliar \n",
        "\n",
        "  print(\"Quantidade de Comparações: \", qtdComparacoes)\n",
        "  return arranjo"
      ]
    },
    {
      "cell_type": "code",
      "execution_count": 247,
      "metadata": {},
      "outputs": [
        {
          "name": "stdout",
          "output_type": "stream",
          "text": [
            "Aleatório\n",
            "Quantidade de Comparações:  17\n",
            "[1, 2, 3, 4, 5, 6, 7, 8, 9, 10] \n",
            "\n",
            "Melhor Caso\n",
            "Quantidade de Comparações:  0\n",
            "[1, 2, 3, 4, 5, 6, 7, 8, 9, 10] \n",
            "\n",
            "Pior Caso\n",
            "Quantidade de Comparações:  30\n",
            "[1, 2, 3, 4, 5, 6, 7, 8, 9, 10]\n"
          ]
        }
      ],
      "source": [
        "arranjoAleatorio = [2, 6, 4, 5, 9, 1, 3, 10, 7, 8]\n",
        "arranjoMelhorCaso = [1, 2, 3, 4, 5, 6, 7, 8, 9, 10]\n",
        "arranjoPiorCaso = [10, 9, 8, 7, 6, 5, 4, 3, 2, 1]\n",
        "\n",
        "print(\"Aleatório\")\n",
        "print(selectionSort(arranjoAleatorio),\"\\n\")\n",
        "\n",
        "print(\"Melhor Caso\")\n",
        "print(selectionSort(arranjoMelhorCaso),\"\\n\")\n",
        "\n",
        "print(\"Pior Caso\")\n",
        "print(selectionSort(arranjoPiorCaso))\n"
      ]
    },
    {
      "cell_type": "markdown",
      "metadata": {
        "id": "zNI1kX0yyDrs"
      },
      "source": [
        "##  Bubble Sort\n"
      ]
    },
    {
      "cell_type": "code",
      "execution_count": 270,
      "metadata": {
        "id": "6X_zk1yWxMQS"
      },
      "outputs": [],
      "source": [
        "def bubbleSort(arranjo):\n",
        "  qtdComparacoes = 0\n",
        "  for i in range(len(arranjo) - 1):\n",
        "    qtdComparacoes += 1\n",
        "    for j in range(len(arranjo) - 1):\n",
        "      if(arranjo[j] > arranjo[j + 1]):\n",
        "        qtdComparacoes += 1\n",
        "        arranjo[j], arranjo[j + 1] = arranjo[j + 1], arranjo[j]\n",
        "  qtdComparacoes += 1\n",
        "  print(\"Quantidade de Comparações: \", qtdComparacoes)\n",
        "  return arranjo\n"
      ]
    },
    {
      "cell_type": "code",
      "execution_count": 271,
      "metadata": {},
      "outputs": [
        {
          "name": "stdout",
          "output_type": "stream",
          "text": [
            "Aleatório\n",
            "Quantidade de Comparações:  23\n",
            "[0, 5, 15, 31, 33, 39, 40, 75, 92, 99] \n",
            "\n",
            "Melhor Caso\n",
            "Quantidade de Comparações:  10\n",
            "[1, 2, 3, 4, 5, 6, 7, 8, 9, 10] \n",
            "\n",
            "Pior Caso\n",
            "Quantidade de Comparações:  55\n",
            "[1, 2, 3, 4, 5, 6, 7, 8, 9, 10]\n"
          ]
        }
      ],
      "source": [
        "\n",
        "arranjoAleatorio = [92, 0, 5, 31, 33, 39, 40, 75, 15, 99]\n",
        "arranjoMelhorCaso = [1, 2, 3, 4, 5, 6, 7, 8, 9, 10]\n",
        "arranjoPiorCaso = [10, 9, 8, 7, 6, 5, 4, 3, 2, 1]\n",
        "\n",
        "print(\"Aleatório\")\n",
        "print(bubbleSort(arranjoAleatorio),\"\\n\")\n",
        "\n",
        "print(\"Melhor Caso\")\n",
        "print(bubbleSort(arranjoMelhorCaso),\"\\n\")\n",
        "\n",
        "print(\"Pior Caso\")\n",
        "print(bubbleSort(arranjoPiorCaso))\n"
      ]
    },
    {
      "cell_type": "markdown",
      "metadata": {
        "id": "vk4vOTkKyLB-"
      },
      "source": [
        "## Heap Sort"
      ]
    },
    {
      "cell_type": "code",
      "execution_count": 262,
      "metadata": {
        "id": "39a7xXzLyH9g"
      },
      "outputs": [],
      "source": [
        "def maxHeap(arranjo, tamanho, posicao):\n",
        "  global global_1\n",
        "  fEsq = 2 * posicao + 1\n",
        "  fDir = 2 * posicao + 2\n",
        "  maior = posicao\n",
        "  if fEsq < tamanho and arranjo[fEsq] > arranjo[posicao]:\n",
        "    maior = fEsq\n",
        "    global_1 += 1\n",
        "  else:\n",
        "    maior = posicao\n",
        "    global_1 += 1\n",
        "  if fDir < tamanho and arranjo[fDir] > arranjo[maior]:\n",
        "    maior = fDir\n",
        "    global_1 += 1\n",
        "  if maior != posicao:\n",
        "    global_1 += 1\n",
        "    arranjo[posicao], arranjo[maior] = arranjo[maior], arranjo[posicao]\n",
        "    maxHeap(arranjo, tamanho, maior)\n",
        "\n",
        "def heapSort(arranjo):\n",
        "  global global_1\n",
        "\n",
        "  tamanho = len(arranjo)\n",
        "\n",
        "  for i in range(tamanho, -1, -1):\n",
        "    global_1 += 1\n",
        "    maxHeap(arranjo, tamanho, i)\n",
        "  global_1 += 1\n",
        "  for i in range(tamanho - 1, 0, -1):\n",
        "    arranjo[0], arranjo[i] = arranjo[i], arranjo[0]\n",
        "    maxHeap(arranjo, i, 0)\n",
        "    global_1 += 1\n",
        "  global_1 += 1\n",
        "  return arranjo"
      ]
    },
    {
      "cell_type": "code",
      "execution_count": 263,
      "metadata": {},
      "outputs": [
        {
          "name": "stdout",
          "output_type": "stream",
          "text": [
            "Aleatório: \n",
            "[0, 5, 15, 31, 33, 39, 40, 75, 92, 99] \n",
            "\n",
            "Quantidade de Comparações:  83\n",
            "Melhor Caso: \n",
            "[1, 2, 3, 4, 5, 6, 7, 8, 9, 10] \n",
            "\n",
            "Quantidade de Comparações:  92\n",
            "Pior Caso: \n",
            "[1, 2, 3, 4, 5, 6, 7, 8, 9, 10]\n",
            "Quantidade de Comparações:  69\n"
          ]
        }
      ],
      "source": [
        "arranjoAleatorio = [92, 0, 5, 31, 33, 39, 40, 75, 15, 99]\n",
        "arranjoMelhorCaso = [1, 2, 3, 4, 5, 6, 7, 8, 9, 10]\n",
        "arranjoPiorCaso = [10, 9, 8, 7, 6, 5, 4, 3, 2, 1]\n",
        "\n",
        "global_1 = 0\n",
        "\n",
        "print(\"Aleatório: \")\n",
        "print(heapSort(arranjoAleatorio),\"\\n\")\n",
        "print(\"Quantidade de Comparações: \", global_1)\n",
        "global_1 = 0\n",
        "\n",
        "print(\"Melhor Caso: \")\n",
        "print(heapSort(arranjoMelhorCaso),\"\\n\")\n",
        "print(\"Quantidade de Comparações: \", global_1)\n",
        "global_1 = 0\n",
        "\n",
        "print(\"Pior Caso: \")\n",
        "print(heapSort(arranjoPiorCaso))\n",
        "print(\"Quantidade de Comparações: \", global_1)\n",
        "global_1 = 0"
      ]
    },
    {
      "cell_type": "markdown",
      "metadata": {
        "id": "fFiGho5CyU3t"
      },
      "source": [
        "## Quick Sort\n",
        "\n",
        "> pivo = *A[A-comprimento]*"
      ]
    },
    {
      "cell_type": "code",
      "execution_count": 259,
      "metadata": {
        "id": "1Ie_N5CRyKY7"
      },
      "outputs": [],
      "source": [
        "def partition(arranjo, esquerdo, direito):\n",
        "  global global_1\n",
        "  pivo, ponteiro = arranjo[direito], esquerdo\n",
        "  for i in range(esquerdo, direito):\n",
        "    global_1 += 1\n",
        "    if arranjo[i] <= pivo:\n",
        "      global_1 += 1\n",
        "      arranjo[i], arranjo[ponteiro] = arranjo[ponteiro], arranjo[i]\n",
        "      ponteiro += 1\n",
        "  arranjo[ponteiro], arranjo[direito] = arranjo[direito], arranjo[ponteiro]\n",
        "  global_1 += 1\n",
        "  return ponteiro\n",
        "\n",
        "def quickSort(arranjo, esquerdo, direito):\n",
        "  global global_1\n",
        "  if len(arranjo) == 1:\n",
        "    global_1 += 1\n",
        "    return arranjo\n",
        "  if esquerdo < direito:\n",
        "    global_1 += 1\n",
        "    q = partition(arranjo, esquerdo, direito)\n",
        "    quickSort(arranjo, esquerdo, q - 1)\n",
        "    quickSort(arranjo, q + 1, direito)\n",
        "  return arranjo"
      ]
    },
    {
      "cell_type": "code",
      "execution_count": 260,
      "metadata": {},
      "outputs": [
        {
          "name": "stdout",
          "output_type": "stream",
          "text": [
            "[0, 5, 15, 31, 33, 39, 40, 75, 92, 99]\n",
            "Quantidade de Comparações Melhor Caso:  76\n",
            "[1, 2, 3, 4, 5, 6, 7, 8, 9, 10]\n",
            "Quantidade de Comparações Melhor Caso:  108\n",
            "[1, 2, 3, 4, 5, 6, 7, 8, 9, 10]\n",
            "Quantidade de Comparações Pior Caso:  83\n"
          ]
        }
      ],
      "source": [
        "arranjoAleatorio = [92, 0, 5, 31, 33, 39, 40, 75, 15, 99]\n",
        "arranjoMelhorCaso = [1, 2, 3, 4, 5, 6, 7, 8, 9, 10]\n",
        "arranjoPiorCaso = [10, 9, 8, 7, 6, 5, 4, 3, 2, 1]\n",
        "\n",
        "print(quickSort(arranjoAleatorio, 0, len(arranjoAleatorio) - 1))\n",
        "print(\"Quantidade de Comparações Melhor Caso: \", global_1)\n",
        "global_1 = 0\n",
        "\n",
        "print(quickSort(arranjoMelhorCaso, 0, len(arranjoMelhorCaso) - 1))\n",
        "print(\"Quantidade de Comparações Melhor Caso: \", global_1)\n",
        "global_1 = 0\n",
        "\n",
        "print(quickSort(arranjoPiorCaso, 0, len(arranjoPiorCaso) - 1))\n",
        "print(\"Quantidade de Comparações Pior Caso: \", global_1)\n",
        "global_1 = 0"
      ]
    },
    {
      "cell_type": "markdown",
      "metadata": {},
      "source": [
        "## Quick Sort Aleatório\n"
      ]
    },
    {
      "cell_type": "code",
      "execution_count": 273,
      "metadata": {},
      "outputs": [],
      "source": [
        "\n",
        "def partition(arranjo, esquerdo, direito):\n",
        "  global global_1\n",
        "  pivo, ponteiro = arranjo[direito], esquerdo\n",
        "  for i in range(esquerdo, direito):\n",
        "    global_1 += 1\n",
        "    if arranjo[i] <= pivo:\n",
        "      global_1 += 1\n",
        "      arranjo[i], arranjo[ponteiro] = arranjo[ponteiro], arranjo[i]\n",
        "      ponteiro += 1\n",
        "  arranjo[ponteiro], arranjo[direito] = arranjo[direito], arranjo[ponteiro]\n",
        "  global_1 += 1\n",
        "  return ponteiro\n",
        "\n",
        "def quickSort(arranjo, esquerdo, direito):\n",
        "  global global_1\n",
        "  if len(arranjo) == 1:\n",
        "    global_1 += 1\n",
        "    return arranjo\n",
        "  if esquerdo < direito:\n",
        "    global_1 += 1\n",
        "    q = partition(arranjo, esquerdo, direito)\n",
        "    quickSort(arranjo, esquerdo, q - 1)\n",
        "    quickSort(arranjo, q + 1, direito)\n",
        "  return arranjo\n",
        "arranjoAleatorio = [92, 0, 5, 31, 33, 39, 40, 75, 15, 99]\n",
        "arranjoMelhorCaso = [1, 2, 3, 4, 5, 6, 7, 8, 9, 10]\n",
        "arranjoPiorCaso = [10, 9, 8, 7, 6, 5, 4, 3, 2, 1]"
      ]
    },
    {
      "cell_type": "code",
      "execution_count": 274,
      "metadata": {},
      "outputs": [
        {
          "name": "stdout",
          "output_type": "stream",
          "text": [
            "[0, 5, 15, 31, 33, 39, 40, 75, 92, 99]\n",
            "Quantidade de Comparações Melhor Caso:  76\n",
            "[1, 2, 3, 4, 5, 6, 7, 8, 9, 10]\n",
            "Quantidade de Comparações Melhor Caso:  108\n",
            "[1, 2, 3, 4, 5, 6, 7, 8, 9, 10]\n",
            "Quantidade de Comparações Pior Caso:  83\n"
          ]
        }
      ],
      "source": [
        "print(quickSort(arranjoAleatorio, 0, len(arranjoAleatorio) - 1))\n",
        "print(\"Quantidade de Comparações Melhor Caso: \", global_1)\n",
        "global_1 = 0\n",
        "\n",
        "print(quickSort(arranjoMelhorCaso, 0, len(arranjoMelhorCaso) - 1))\n",
        "print(\"Quantidade de Comparações Melhor Caso: \", global_1)\n",
        "global_1 = 0\n",
        "\n",
        "print(quickSort(arranjoPiorCaso, 0, len(arranjoPiorCaso) - 1))\n",
        "print(\"Quantidade de Comparações Pior Caso: \", global_1)\n",
        "global_1 = 0"
      ]
    },
    {
      "cell_type": "markdown",
      "metadata": {
        "id": "VomdAnCrzEv1"
      },
      "source": [
        "# Questões"
      ]
    },
    {
      "cell_type": "markdown",
      "metadata": {
        "id": "3QKV979kzItD"
      },
      "source": [
        "\n",
        "\n",
        "1.   Dado um conjunto de arranjos ***A[5,...,1000, passo=5]***\n",
        "\n",
        "> a) Defina o melhor e pior caso para cada um dos algoritmos definidos acima, crie vetores ***A*** para estes casos e faça a comparação gráficamente também com casos aleatórios (plote um gráfico para cada algoritmo). Conte o numero de comparações realizadas para cada uma das execuções.\n",
        "\n",
        "> b) Repita o procedimento acima. Porém compare os algoritmos para pior e melhor caso e também casos aleatórios.\n",
        "\n",
        "> c) Qual é o comportamento assintótico para cada um dos algorítmos acima (melhor caso e pior caso, se puder, analise também em casos aleatórios)\n",
        "\n",
        "\n",
        "\n",
        "**Obs.:** para os algoritmos QuickSort e Merge Sort mostre apenas um melhor e um pior caso. faça a comparação com os demais métodos com o conjunto ***A*** apenas em casos aleatórios.\n",
        "\n",
        "\n",
        "\n"
      ]
    },
    {
      "cell_type": "markdown",
      "metadata": {
        "id": "9hhEkQam21NC"
      },
      "source": [
        "2.   Desenvolva uma versão aleatorizada do QUICKSORT (pivo aleatório) e compare com a versão apresentada em sala de aula e definida acima.\n",
        "\n"
      ]
    },
    {
      "cell_type": "code",
      "execution_count": 33,
      "metadata": {
        "colab": {
          "base_uri": "https://localhost:8080/"
        },
        "id": "nBfs279_1Vko",
        "outputId": "6a6e86cf-5b1e-4176-a1a5-93bfb4ded319"
      },
      "outputs": [
        {
          "name": "stdout",
          "output_type": "stream",
          "text": [
            "Boa sorte!!!\n"
          ]
        }
      ],
      "source": [
        "print(\"Boa sorte!!!\")"
      ]
    }
  ],
  "metadata": {
    "colab": {
      "collapsed_sections": [
        "kPNpzNYwkKAO",
        "nEw1UEsmoKMg",
        "9a-wJwU-wtmQ",
        "8dWpeYUvw-wU",
        "zNI1kX0yyDrs",
        "vk4vOTkKyLB-"
      ],
      "name": "EFC1 GCC-253.ipynb",
      "provenance": [],
      "toc_visible": true
    },
    "kernelspec": {
      "display_name": "Python 3.10.4 64-bit",
      "language": "python",
      "name": "python3"
    },
    "language_info": {
      "codemirror_mode": {
        "name": "ipython",
        "version": 3
      },
      "file_extension": ".py",
      "mimetype": "text/x-python",
      "name": "python",
      "nbconvert_exporter": "python",
      "pygments_lexer": "ipython3",
      "version": "3.10.4"
    },
    "vscode": {
      "interpreter": {
        "hash": "916dbcbb3f70747c44a77c7bcd40155683ae19c65e1c03b4aa3499c5328201f1"
      }
    }
  },
  "nbformat": 4,
  "nbformat_minor": 0
}
